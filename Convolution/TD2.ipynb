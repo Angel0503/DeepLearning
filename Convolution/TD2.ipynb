{
 "cells": [
  {
   "cell_type": "markdown",
   "id": "87c0621f",
   "metadata": {},
   "source": [
    "# TD2 : Réseaux de neurones convolutionnels\n"
   ]
  },
  {
   "cell_type": "markdown",
   "id": "5ffa8b98",
   "metadata": {},
   "source": [
    "## Exercice 0"
   ]
  },
  {
   "cell_type": "markdown",
   "id": "f6bd426d",
   "metadata": {},
   "source": [
    "Repartir du dataset CIFAR10 en gardant les images en (32,32, 8)\n",
    "Faire : \n",
    " - Convolution 2D (32,3)\n",
    " - Maxpooling (2,2)\n",
    " - Convolution 2D (32,3)\n",
    " - Maxpooling (2,2)\n",
    " - Flatten()\n",
    " - Créer un MLP avec une couche d'entrée de 1024 et une couche de sortie de 10 avec un softmax"
   ]
  },
  {
   "cell_type": "code",
   "execution_count": null,
   "id": "da6b7604",
   "metadata": {},
   "outputs": [],
   "source": [
    "from sklearn.datasets import load_iris\n",
    "import seaborn as sns\n",
    "import matplotlib.pyplot as plt\n",
    "import pandas as pd\n",
    "from sklearn.model_selection import train_test_split\n",
    "from sklearn.linear_model import LogisticRegression\n",
    "from keras.utils import to_categorical\n",
    "from sklearn.neural_network import MLPClassifier\n",
    "\n",
    "import tensorflow as tf\n",
    "\n",
    "import numpy as np\n",
    "from sklearn.preprocessing import StandardScaler\n"
   ]
  },
  {
   "cell_type": "markdown",
   "id": "2452952a",
   "metadata": {},
   "source": [
    "## Exercice 1"
   ]
  },
  {
   "cell_type": "markdown",
   "id": "6a759081",
   "metadata": {},
   "source": [
    "### 1. Télécharger le dataset ‘stanford_dogs’ directement depuis votre notebook"
   ]
  },
  {
   "cell_type": "code",
   "execution_count": 1,
   "id": "a9a98366",
   "metadata": {},
   "outputs": [
    {
     "ename": "ModuleNotFoundError",
     "evalue": "No module named 'tensorflow_datasets'",
     "output_type": "error",
     "traceback": [
      "\u001b[1;31m---------------------------------------------------------------------------\u001b[0m",
      "\u001b[1;31mModuleNotFoundError\u001b[0m                       Traceback (most recent call last)",
      "Cell \u001b[1;32mIn[1], line 1\u001b[0m\n\u001b[1;32m----> 1\u001b[0m \u001b[38;5;28;01mimport\u001b[39;00m\u001b[38;5;250m \u001b[39m\u001b[38;5;21;01mtensorflow_datasets\u001b[39;00m\u001b[38;5;250m \u001b[39m\u001b[38;5;28;01mas\u001b[39;00m\u001b[38;5;250m \u001b[39m\u001b[38;5;21;01mtfds\u001b[39;00m\n",
      "\u001b[1;31mModuleNotFoundError\u001b[0m: No module named 'tensorflow_datasets'"
     ]
    }
   ],
   "source": [
    "import tensorflow_datasets as tfds"
   ]
  },
  {
   "cell_type": "code",
   "execution_count": null,
   "id": "118a1a4a",
   "metadata": {},
   "outputs": [],
   "source": []
  }
 ],
 "metadata": {
  "kernelspec": {
   "display_name": "Python 3",
   "language": "python",
   "name": "python3"
  },
  "language_info": {
   "codemirror_mode": {
    "name": "ipython",
    "version": 3
   },
   "file_extension": ".py",
   "mimetype": "text/x-python",
   "name": "python",
   "nbconvert_exporter": "python",
   "pygments_lexer": "ipython3",
   "version": "3.12.6"
  }
 },
 "nbformat": 4,
 "nbformat_minor": 5
}
